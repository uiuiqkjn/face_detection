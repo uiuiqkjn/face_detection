{
 "cells": [
  {
   "cell_type": "code",
   "execution_count": 2,
   "metadata": {},
   "outputs": [],
   "source": [
    "# !unzip  -o -q -d  /home/zhang/Data/DeepLearning/Pytorch/面部关键点检测/work /home/zhang/Data/DeepLearning/Pytorch/面部关键点检测/data/facial-keypoints-detection.zip\n",
    "# !unzip  -o -q -d  /home/zhang/Data/DeepLearning/Pytorch/面部关键点检测/work /home/zhang/Data/DeepLearning/Pytorch/面部关键点检测/work/test.zip\n",
    "# !unzip  -o -q -d  /home/zhang/Data/DeepLearning/Pytorch/面部关键点检测/work /home/zhang/Data/DeepLearning/Pytorch/面部关键点检测/work/training.zip"
   ]
  },
  {
   "cell_type": "code",
   "execution_count": 1,
   "metadata": {},
   "outputs": [
    {
     "name": "stdout",
     "output_type": "stream",
     "text": [
      "1.23.5\n"
     ]
    }
   ],
   "source": [
    "import numpy as np\n",
    "print(np.__version__)"
   ]
  },
  {
   "cell_type": "code",
   "execution_count": null,
   "metadata": {},
   "outputs": [],
   "source": []
  }
 ],
 "metadata": {
  "kernelspec": {
   "display_name": "DL",
   "language": "python",
   "name": "python3"
  },
  "language_info": {
   "codemirror_mode": {
    "name": "ipython",
    "version": 3
   },
   "file_extension": ".py",
   "mimetype": "text/x-python",
   "name": "python",
   "nbconvert_exporter": "python",
   "pygments_lexer": "ipython3",
   "version": "3.8.18"
  }
 },
 "nbformat": 4,
 "nbformat_minor": 2
}
